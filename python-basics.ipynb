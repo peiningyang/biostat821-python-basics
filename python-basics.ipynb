{
 "cells": [
  {
   "cell_type": "markdown",
   "metadata": {},
   "source": [
    "# Python Basics\n",
    "### BIOSTAT 821: Software Tools for Data Science\n",
    "### Peining Yang & Raza Lamb"
   ]
  },
  {
   "cell_type": "code",
   "execution_count": 1,
   "metadata": {},
   "outputs": [],
   "source": [
    "import math"
   ]
  },
  {
   "cell_type": "code",
   "execution_count": 2,
   "metadata": {},
   "outputs": [],
   "source": [
    "# Function that turns file into list of lists of integers\n",
    "def get_data(file):\n",
    "    # Open file and read into list of lists\n",
    "    with open(file) as dta:\n",
    "        nums = [line.strip(\"\\n\").split(\" \") for line in dta]\n",
    "    num_list = []\n",
    "    # Create new lists, converting list entries from string to ints\n",
    "    for lst in nums:\n",
    "        num_list.append([int(x) for x in lst])\n",
    "    return num_list\n"
   ]
  },
  {
   "cell_type": "code",
   "execution_count": 3,
   "metadata": {},
   "outputs": [
    {
     "name": "stdout",
     "output_type": "stream",
     "text": [
      "[[1, 44, 31, 4, 5, 6], [21, 3, 2, 13, 55, 72]]\n"
     ]
    }
   ],
   "source": [
    "# Test get_data()\n",
    "integers = get_data(\"example.txt\")\n",
    "print(integers)"
   ]
  },
  {
   "cell_type": "code",
   "execution_count": 4,
   "metadata": {},
   "outputs": [],
   "source": [
    "# Function that calculates various summary statistics given lists of lists\n",
    "def analyze_data(integers, option):\n",
    "    # Create list that is all entries\n",
    "    all_numbers = [integer for sublist in integers for integer in sublist]\n",
    "    if option == \"average\":\n",
    "        return average(all_numbers)\n",
    "    elif option == \"standard deviation\":\n",
    "        return standard_deviation(all_numbers)\n",
    "    elif option == \"covariance\":\n",
    "        return covariance(integers)\n",
    "    else:\n",
    "        return correlation(integers)\n",
    "\n",
    "\n",
    "# Average function\n",
    "def average(integers):\n",
    "    return sum(integers) / len(integers)\n",
    "\n",
    "\n",
    "# Standard deviation function\n",
    "def standard_deviation(integers):\n",
    "    integer_average = average(integers)\n",
    "    std = 0\n",
    "    for i in integers:\n",
    "        std += (i - integer_average) ** 2\n",
    "        pass\n",
    "    return math.sqrt(std / len(integers))\n",
    "\n",
    "\n",
    "# Covariance function\n",
    "def covariance(integers):\n",
    "    average_0 = average(integers[0])\n",
    "    average_1 = average(integers[1])\n",
    "    n = len(integers[0])\n",
    "    cov = 0\n",
    "    for i in range(n):\n",
    "        cov += (integers[0][i] - average_0) * (integers[1][i] - average_1)\n",
    "        pass\n",
    "    return cov / n\n",
    "\n",
    "\n",
    "# Correlation function\n",
    "def correlation(integers):\n",
    "    top = covariance(integers)\n",
    "    bottom = standard_deviation(integers[0]) * standard_deviation(integers[1])\n",
    "    return top / bottom\n"
   ]
  },
  {
   "cell_type": "code",
   "execution_count": 5,
   "metadata": {},
   "outputs": [
    {
     "name": "stdout",
     "output_type": "stream",
     "text": [
      "21.4\n",
      "22.9\n",
      "-257.3\n",
      "-0.594\n"
     ]
    }
   ],
   "source": [
    "# Test analyze data function\n",
    "print(round(analyze_data(integers, \"average\"), 1))  # Should be ~21.4\n",
    "print(round(analyze_data(integers, \"standard deviation\"), 1)) # Should be ~ 22.9\n",
    "print(round(analyze_data(integers, \"covariance\"), 1)) # Should be ~-257\n",
    "print(round(analyze_data(integers, \"correlation\"), 3)) # Should be -0.594\n"
   ]
  }
 ],
 "metadata": {
  "interpreter": {
   "hash": "b59c64cbe675fb7068f51a340ca6f6905b15d51add1673579c3b8284ebecd3b8"
  },
  "kernelspec": {
   "display_name": "Python 3.9.7 64-bit ('base': conda)",
   "language": "python",
   "name": "python3"
  },
  "language_info": {
   "codemirror_mode": {
    "name": "ipython",
    "version": 3
   },
   "file_extension": ".py",
   "mimetype": "text/x-python",
   "name": "python",
   "nbconvert_exporter": "python",
   "pygments_lexer": "ipython3",
   "version": "3.9.7"
  },
  "orig_nbformat": 4
 },
 "nbformat": 4,
 "nbformat_minor": 2
}
